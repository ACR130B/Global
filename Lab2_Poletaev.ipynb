{
  "nbformat": 4,
  "nbformat_minor": 0,
  "metadata": {
    "colab": {
      "provenance": []
    },
    "kernelspec": {
      "name": "python3",
      "display_name": "Python 3"
    },
    "language_info": {
      "name": "python"
    }
  },
  "cells": [
    {
      "cell_type": "markdown",
      "source": [
        "Исходные данные"
      ],
      "metadata": {
        "id": "qpAy0k5GYTkw"
      }
    },
    {
      "cell_type": "code",
      "execution_count": 1,
      "metadata": {
        "id": "1Qsdig1FCyHe"
      },
      "outputs": [],
      "source": [
        "word_length = 125"
      ]
    },
    {
      "cell_type": "markdown",
      "source": [
        "Установка и вычисление контрольной суммы"
      ],
      "metadata": {
        "id": "W1akXR-tYX6r"
      }
    },
    {
      "cell_type": "code",
      "source": [
        "\n",
        "from math import ceil, log2\n",
        "from random import randint"
      ],
      "metadata": {
        "id": "ueA5VvYbEASj"
      },
      "execution_count": 2,
      "outputs": []
    },
    {
      "cell_type": "code",
      "source": [
        "def checksum(text):\n",
        "    a = 0xFFFF\n",
        "    b = 0xA001\n",
        "    for byte in text:\n",
        "        a ^= ord(byte)\n",
        "        for i in range(8):\n",
        "            last = a % 2\n",
        "            a >>= 1\n",
        "            if last == 1:\n",
        "                a ^= b\n",
        "    crc16 = hex(a).upper()\n",
        "    return crc16"
      ],
      "metadata": {
        "id": "A1lTpYC2YO_m"
      },
      "execution_count": 29,
      "outputs": []
    },
    {
      "cell_type": "markdown",
      "source": [
        "Утилитарные функции"
      ],
      "metadata": {
        "id": "SQj7lxbfVdUC"
      }
    },
    {
      "cell_type": "code",
      "source": [
        "def text_to_bits(text, encoding='utf-8', errors=\"ignore\"):\n",
        "    bits = bin(int.from_bytes(text.encode(encoding, errors), 'big'))[2:]\n",
        "    return bits.zfill(8 * ((len(bits) + 7) // 8))\n",
        "  \n",
        "\n",
        "def bits_to_text(bits, encoding='utf-8', errors=\"ignore\"):\n",
        "    n = int(bits, 2)\n",
        "    return n.to_bytes((n.bit_length() + 7) // 8, 'big').decode(encoding, errors) or '\\0'"
      ],
      "metadata": {
        "id": "ZvtUzM-vV-So"
      },
      "execution_count": 30,
      "outputs": []
    },
    {
      "cell_type": "code",
      "source": [
        "def calcRedundantBits(m):\n",
        "\tfor i in range(m):\n",
        "\t\tif(2**i >= m + i + 1):\n",
        "\t\t\treturn i\n",
        "\n",
        "def posRedundantBits(data, r):\n",
        "\tj = 0\n",
        "\tk = 1\n",
        "\tm = len(data)\n",
        "\tres = ''\n",
        "\tfor i in range(1, m + r+1):\n",
        "\t\tif(i == 2**j):\n",
        "\t\t\tres = res + '0'\n",
        "\t\t\tj += 1\n",
        "\t\telse:\n",
        "\t\t\tres = res + data[-1 * k]\n",
        "\t\t\tk += 1\n",
        "\treturn res\n",
        "\n",
        "\n",
        "def calcParityBits(arr, r):\n",
        "\tn = len(arr)\n",
        "\tfor i in range(r):\n",
        "\t\tval = 0\n",
        "\t\tfor j in range(1, n + 1):\n",
        "\t\t\tif(j & (2**i) == (2**i)):\n",
        "\t\t\t\tval = val ^ int(arr[-1 * j])\n",
        "\t\tarr = arr[:n-(2**i)] + str(val) + arr[n-(2**i)+1:]\n",
        "\treturn arr\n",
        "\n",
        "\n",
        "def detectError(arr, nr):\n",
        "\tn = len(arr)\n",
        "\tres = 0\n",
        "\tfor i in range(nr):\n",
        "\t\tval = 0\n",
        "\t\tfor j in range(1, n + 1):\n",
        "\t\t\tif(j & (2**i) == (2**i)):\n",
        "\t\t\t\tval = val ^ int(arr[-1 * j])\n",
        "\t\tres = res + val*(10**i)\n",
        "\treturn int(str(res), 2)\n",
        "\n",
        "\n",
        "def remove_redundant_bits(data):\n",
        "  r_idx = 1\n",
        "  i_to_remove = []\n",
        "\n",
        "  while r_idx+1 < len(data):\n",
        "    i_to_remove.append(r_idx-1)\n",
        "    r_idx *= 2\n",
        "\n",
        "  i_to_remove = i_to_remove[::-1]\n",
        "\n",
        "  for i in i_to_remove:\n",
        "    data = data[:i] + data[i+1:]\n",
        "\n",
        "  return data"
      ],
      "metadata": {
        "id": "S9IfKr4JZJMk"
      },
      "execution_count": 31,
      "outputs": []
    },
    {
      "cell_type": "markdown",
      "source": [
        "Функции работы со словом"
      ],
      "metadata": {
        "id": "6zCyqGLjVhDC"
      }
    },
    {
      "cell_type": "code",
      "source": [
        "def encode_word(data):\n",
        "  length = len(data)\n",
        "  red_count = calcRedundantBits(length)\n",
        "  data_with_zeros = posRedundantBits(data[::-1], red_count)\n",
        "  data_with_pars = calcParityBits(data_with_zeros[::-1], red_count)\n",
        "  return data_with_pars[::-1]\n",
        "\n",
        "\n",
        "def decode_word(word_data):\n",
        "  return remove_redundant_bits(word_data)\n",
        "\n",
        "\n",
        "def decode_word_error(word_data):\n",
        "  decoded_word_data = remove_redundant_bits(word_data)\n",
        "  r = calcRedundantBits(len(decoded_word_data))\n",
        "  idx_error = detectError(word_data[::-1], r) - 1\n",
        "  if idx_error == -1 or idx_error >= len(word_data):\n",
        "    return decoded_word_data, 0\n",
        "  word_data = word_data[:idx_error] + (\"0\" if word_data[idx_error] == \"1\" else \"1\") + word_data[idx_error+1:]\n",
        "  return remove_redundant_bits(word_data), 1"
      ],
      "metadata": {
        "id": "PT8Ocnh0D0m4"
      },
      "execution_count": 32,
      "outputs": []
    },
    {
      "cell_type": "markdown",
      "source": [
        "Функции работы с текстом"
      ],
      "metadata": {
        "id": "3EMEpzbrVjEP"
      }
    },
    {
      "cell_type": "code",
      "source": [
        "def encode(text, word_length):\n",
        "  data = text_to_bits(text)\n",
        "  data_length = len(data)\n",
        "  num_blocks = ceil(data_length / word_length)\n",
        "  data_blocks = [\n",
        "      encode_word(data[i*word_length:(i+1)*word_length])\n",
        "      for i in range(num_blocks)\n",
        "  ]\n",
        "\n",
        "  return data_blocks, checksum(text)\n",
        "\n",
        "\n",
        "def decode(words_data):\n",
        "  decoded_data = \"\".join(\n",
        "      decode_word(word_data)\n",
        "      for word_data in words_data\n",
        "  )\n",
        "  decoded_text = bits_to_text(decoded_data)\n",
        "  return decoded_text, checksum(decoded_text)\n",
        "\n",
        "\n",
        "def decode_error(words_data):\n",
        "  decoded_data = \"\"\n",
        "  errors = 0\n",
        "  for word_data in words_data:\n",
        "    decoded_word, error = decode_word_error(word_data)\n",
        "    decoded_data += decoded_word\n",
        "    errors += error\n",
        "  decoded_text = bits_to_text(decoded_data)\n",
        "  return decoded_text, errors, checksum(decoded_text)"
      ],
      "metadata": {
        "id": "nmJrhXw9fjzM"
      },
      "execution_count": 33,
      "outputs": []
    },
    {
      "cell_type": "markdown",
      "source": [
        "Функции добавления ошибок"
      ],
      "metadata": {
        "id": "ktYvWKsmVoiL"
      }
    },
    {
      "cell_type": "code",
      "source": [
        "def place_error(words_data, word_num, bit_num):\n",
        "  word_data = words_data[word_num]\n",
        "  word_data = word_data[:bit_num] + (\"0\" if word_data[bit_num] == \"1\" else \"1\") + word_data[bit_num+1:]\n",
        "  words_data[word_num] = word_data\n",
        "  return words_data\n",
        "\n",
        "\n",
        "def place_random_errors(words_data, max_errors_per_word):\n",
        "  errors_info = []\n",
        "  broken_words = 0\n",
        "  for word_num in range(len(words_data)):\n",
        "    amount_of_errors  = randint(0, max_errors_per_word)\n",
        "    broken_words += 1 if amount_of_errors else 0\n",
        "    for err in range(amount_of_errors):\n",
        "      error_idx = randint(0, len(words_data[word_num])-1)\n",
        "      words_data = place_error(words_data, word_num, error_idx)\n",
        "      errors_info.append([word_num, error_idx])\n",
        "  return words_data, broken_words, errors_info"
      ],
      "metadata": {
        "id": "ggj0vJL_DyI3"
      },
      "execution_count": 34,
      "outputs": []
    },
    {
      "cell_type": "markdown",
      "source": [
        "Основная функция"
      ],
      "metadata": {
        "id": "PXkSePSmVuXE"
      }
    },
    {
      "cell_type": "code",
      "source": [
        "def main(text, word_length, max_broken_bits_per_word):\n",
        "  encoded_blocks, check_init = encode(text, word_length)\n",
        "\n",
        "  encoded_blocks, broken_words, errors_info = place_random_errors(encoded_blocks, max_broken_bits_per_word)\n",
        "  print(f\"Amount of broken words: {broken_words}\")\n",
        "  print(f\"Amount of broken bits: {len(errors_info)}\")\n",
        "\n",
        "  decoded_text, check_dec = decode(encoded_blocks)\n",
        "  print(f\"Decoded text: {decoded_text}\")\n",
        "  print(f\"Is the same? {decoded_text == text}\")\n",
        "\n",
        "  decoded_text_err, found_error_words, check_err = decode_error(encoded_blocks)\n",
        "  print(f\"Decoded text (fixing errors): {decoded_text_err}\")\n",
        "  print(f\"Is the same? {decoded_text_err == text}\")\n",
        "\n",
        "  print(f\"Found {found_error_words} broken words of {len(encoded_blocks)} total.\")\n",
        "  print(f\"Found all errors? {len(errors_info) == found_error_words}\")\n",
        "  print(f\"Decoding checksum: {check_init == check_dec}\\nDecoding with errors fixed checksum: {check_init == check_err}\")"
      ],
      "metadata": {
        "id": "VqLfOwowlHVK"
      },
      "execution_count": 35,
      "outputs": []
    },
    {
      "cell_type": "markdown",
      "source": [
        "Тесты"
      ],
      "metadata": {
        "id": "qwbuDdRFVwEx"
      }
    },
    {
      "cell_type": "code",
      "source": [
        "text = \"\"\"Зона-02, TSRDEC1190292-Lambda-02 (Код Зоны) — это зона, расположенная в , в этой зоне происходит действие игры SCP: Secret Laboratory. В настоящий момент Зона-02, кажется, сосредоточена на изготовлении экспериментальных форм технологий для улучшения безопасности Фонда. Эти экспериментальные технологии могут включать в себя мощное оружие для оперативного подавления SCP или систему безопасности с ИИ для помощи при чрезвычайных ситуациях.\n",
        "\n",
        "Зона-02 использует формат даты — ММ/дд/гг для всех локальных документов, когда для международных они используют — дд/ММ/гг. Хоть и Зона-02 использует формат даты ММ/дд/гг, распространённый в Серверной и Южной Америке, до сих пор неизвестно истинное местонахождение Зоны-02, так как эта информация засекречена, в отличие от Зоны-11 и Зоны-88, которые точно находятся в Северной и Южной Америке.\n",
        "\n",
        "Во время теста с участием SCP-330, было выяснено, что конфеты обладают аномальными эффектами, которые можно получить, съев их. Эффекты со временем ослабевают. Во время теста, проходившего на Хэллоуин, было выяснено, что эффекты стали намного сильнее. После съедания экземпляра Розовой конфеты, Субъект D-330-4 немедленно , убив Д-р Эндрюса и серьёзно повредив камеру SCP-330. После этого SCP-330 был перемещён в LCZ-TC-01. C.A.S.S.I.E. впервые начал работу в Марте 2008-го года. Изначально он работал как простая Система громкой связи, хотя у него была ограниченная автономия, например, тушение пожаров или обнаружение вспышки заболевания в пределах комплекса. Последующие 6 лет C.A.S.S.I.E. постоянно улучшался с новыми и улучшенными системами, расширяющие управление C.A.S.S.I.E. над комплексом.\n",
        "\n",
        "Нынешняя Роль C.A.S.S.I.E. заключается в оповещении персонала Зоны-02 о всевозможных чрезвычайных ситуациях, например о Нарушении Условий Содержания, пожарах, атаках Повстанцев Хаоса и прочих биологических угрозах. При обнаружении угрозы, C.A.S.S.I.E. оповещает главный персонал Комплекса и ждёт дальнейших указаний. При отсутствии указаний, C.A.S.S.I.E. будет действовать согласно заложенным протоколам и имеющимся возможностям для устранения угроз.\n",
        "\n",
        "Из-за значения C.A.S.S.I.E. в жизни Комплекса, было введено множество мер безопасности. Ядро C.A.S.S.I.E. серьёзно охраняется, для получения доступа необходим Уровень Доступа 5. Некоторые источники сообщают, что последний раз Ядро C.A.S.S.I.E. было открыто в Декабре 2014 для установки обновлений. Подобные меры означают, что C.A.S.S.I.E. нельзя управлять удалённо - для предотвращения удалённого взлома и перехвата контроля над Комплексом.\n",
        "Больше информации по C.A.S.S.I.E. можно найти здесь.\"\"\"\n",
        "main(text, word_length, max_broken_bits_per_word=1)"
      ],
      "metadata": {
        "colab": {
          "base_uri": "https://localhost:8080/"
        },
        "id": "GnIOOzqMLEWw",
        "outputId": "bbd70047-4dad-4f05-85ab-e591fe4c1752"
      },
      "execution_count": 39,
      "outputs": [
        {
          "output_type": "stream",
          "name": "stdout",
          "text": [
            "Amount of broken words: 134\n",
            "Amount of broken bits: 134\n",
            "Decoded text: ЗPна-02, TSRDEG1190292-Lambla-02 (Код Зоны) — это Чона, расположенна в , в этй зоне происходит дейفтвие игры SCP: Secret Laboratory. В настоящиҹ момент Зона-02, ка6ется, сощредоточPна на изготовлении экспериментальных(форм техԽологий для улучшения безопасно\u0001ти Фонма. ЭтШ экспериментвльные технологии могут включать в себя мощное оружие для оператигного подвления SCP йли систему безопасности с ИИ для поPощи при чрѵзвычайных ситуациях.\n",
            "\n",
            "Зжна-02 использует формат даты — ММ/дд/гг дPя всех локذльных док\u0003ментов, когда дػя международных ни используют — дд/ММ/гг. Хот и Зона-02 использует фоЀмат даты ММ/дд+гг, распространённый в Серверной и Южной Америке, Фо сих пор Խеизвестно истинное местонхождение Зоны-02< так как эца информаنия засекреченд, в отличие\u0000от Зоны-11 и Зоны-88, которые точно находяђся в Севзрной и Южной Анерике.\n",
            "\n",
            "Во врем теста с участием SCP-330, было выяснено, что конфеты\"обладают аномальными эффектами, которые можно получитՌ, съев их. Эффекты со вфеменем ослабевают. Во время теста, проходившего на Хэллоун, быпо выясненԾ, что эффХкты стали намного сикьнее. Поуле съедания экземпһяра Розовой конфеты, Субъект D-330-4 немеденно , убив Д-с Эндрюёа и серьсзно повреФив камеру SCP-330. После этго SCP-330 был перемещён в LCZ-TC-01. C.A.S.S.I.E. впервые начал работу0в Марте 2008-го سода. Иҷначально он ѐаботал Pак простая Система громкой связи, хотя у нево была ограниченНая автономия, напримХр, тушение пожарPв или обнарՃжение вспыки заболевания в пределах غомплԵкса. Последующие 6 лет C.A.S.S.I.E. пҾстоянно улучшалря с новыми и`улучшенными системѰми, расширяющие правление C.A.S.S.I.E. над комплексом.\n",
            "\n",
            "Нынешняя Роль C.A.S.[.I.E. заключается 2 опҾвещении персонала Зоны-02 о севозможных чсезвычайных ситуациях,например о Нарушении УсловИй СодеЀжания, поарах, атаках Погстанцев Хаоса и Pрочих биологических угрозах. При оԱнаружении угтозы, C.A.S.S.Y.E. оповещает главый персоPал Комплекса и ждт дальнейших указаний. ри отсутствии указаний, C.A.S.S.I.E. бужет действоватЌ согласно заложенным протоколам и имеящимся возможностям для устрذндния угроз.\n",
            "\n",
            "Из-зА значения C.A.S.S.I.E. в жизни Кодплекса, было ввѵдено множесто мер безопасности. Ядро C.A.S.S.I.E. серьёзно охраняется, длՏ получения доступи необходим Урвеь Доступа 5. Некоторые источники сооащаюђ, что последний раз дро C.Q.S.S.I.E. было открыто в Дصкибре 2014 для установки обн>влений. Подобные мصры означают, что C.A.S.S.I.E. нелзя улравлять удАлённо - для предотвращения удалённого взлома и перехваа конроля0над Комплексом.\n",
            "Больше инфҾрмации по C.A.S.S.I.E. можно найти здҵсь.\n",
            "Is the same? False\n",
            "Decoded text (fixing errors): Зона-02, TSRDEC1190292-Lambda-02 (Код Зоны) — это зона, расположенная в , в этой зоне происходит действие игры SCP: Secret Laboratory. В настоящий момент Зона-02, кажется, сосредоточена на изготовлении экспериментальных форм технологий для улучшения безопасности Фонда. Эти экспериментальные технологии могут включать в себя мощное оружие для оперативного подавления SCP или систему безопасности с ИИ для помощи при чрезвычайных ситуациях.\n",
            "\n",
            "Зона-02 использует формат даты — ММ/дд/гг для всех локальных документов, когда для международных они используют — дд/ММ/гг. Хоть и Зона-02 использует формат даты ММ/дд/гг, распространённый в Серверной и Южной Америке, до сих пор неизвестно истинное местонахождение Зоны-02, так как эта информация засекречена, в отличие от Зоны-11 и Зоны-88, которые точно находятся в Северной и Южной Америке.\n",
            "\n",
            "Во время теста с участием SCP-330, было выяснено, что конфеты обладают аномальными эффектами, которые можно получить, съев их. Эффекты со временем ослабевают. Во время теста, проходившего на Хэллоуин, было выяснено, что эффекты стали намного сильнее. После съедания экземпляра Розовой конфеты, Субъект D-330-4 немедленно , убив Д-р Эндрюса и серьёзно повредив камеру SCP-330. После этого SCP-330 был перемещён в LCZ-TC-01. C.A.S.S.I.E. впервые начал работу в Марте 2008-го года. Изначально он работал как простая Система громкой связи, хотя у него была ограниченная автономия, например, тушение пожаров или обнаружение вспышки заболевания в пределах комплекса. Последующие 6 лет C.A.S.S.I.E. постоянно улучшался с новыми и улучшенными системами, расширяющие управление C.A.S.S.I.E. над комплексом.\n",
            "\n",
            "Нынешняя Роль C.A.S.S.I.E. заключается в оповещении персонала Зоны-02 о всевозможных чрезвычайных ситуациях, например о Нарушении Условий Содержания, пожарах, атаках Повстанцев Хаоса и прочих биологических угрозах. При обнаружении угрозы, C.A.S.S.I.E. оповещает главный персонал Комплекса и ждёт дальнейших указаний. При отсутствии указаний, C.A.S.S.I.E. будет действовать согласно заложенным протоколам и имеющимся возможностям для устранения угроз.\n",
            "\n",
            "Из-за значения C.A.S.S.I.E. в жизни Комплекса, было введено множество мер безопасности. Ядро C.A.S.S.I.E. серьёзно охраняется, для получения доступа необходим Уровень Доступа 5. Некоторые источники сообщают, что последний раз Ядро C.A.S.S.I.E. было открыто в Декабре 2014 для установки обновлений. Подобные меры означают, что C.A.S.S.I.E. нельзя управлять удалённо - для предотвращения удалённого взлома и перехвата контроля над Комплексом.\n",
            "Больше информации по C.A.S.S.I.E. можно найти здесь.\n",
            "Is the same? True\n",
            "Found 134 broken words of 289 total.\n",
            "Found all errors? True\n",
            "Decoding checksum: False\n",
            "Decoding with errors fixed checksum: True\n"
          ]
        }
      ]
    }
  ]
}